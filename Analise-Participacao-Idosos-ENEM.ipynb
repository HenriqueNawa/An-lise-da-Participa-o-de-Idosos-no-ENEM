{
 "cells": [
  {
   "cell_type": "markdown",
   "metadata": {},
   "source": [
    "<h1>Evolução da participação de idosos no ENEM</h1>"
   ]
  },
  {
   "cell_type": "code",
   "execution_count": 1,
   "metadata": {},
   "outputs": [],
   "source": [
    "# Bibliotecas utilizadas para a análise dos dados\n",
    "import pandas as pd\n",
    "import numpy as np\n",
    "import matplotlib.pyplot as plt\n",
    "low_memory=False"
   ]
  },
  {
   "cell_type": "markdown",
   "metadata": {},
   "source": [
    "<b>Edições do ENEM analisados</b>"
   ]
  },
  {
   "cell_type": "code",
   "execution_count": 2,
   "metadata": {},
   "outputs": [],
   "source": [
    "ed_ano = [2014, 2015, 2016, 2017, 2018]\n",
    "total_inscritos = []\n",
    "part_idosos = []"
   ]
  },
  {
   "cell_type": "markdown",
   "metadata": {},
   "source": [
    "<b>Leitura dos arquivos</b>"
   ]
  },
  {
   "cell_type": "code",
   "execution_count": 3,
   "metadata": {},
   "outputs": [],
   "source": [
    "for i in ed_ano:\n",
    "    if str(i) == '2014':\n",
    "        df = pd.read_csv('MICRODADOS_ENEM_'+str(i)+'.csv', delimiter=',', encoding='iso-8859-1', usecols=['IN_IDOSO', 'Q003'])\n",
    "    elif str(i) == '2015':\n",
    "        df = pd.read_csv('MICRODADOS_ENEM_'+str(i)+'.csv', delimiter=',', encoding='iso-8859-1', usecols=['IN_IDOSO', 'Q006'])\n",
    "    else:\n",
    "        df = pd.read_csv('MICRODADOS_ENEM_'+str(i)+'.csv', delimiter=';', encoding='iso-8859-1', usecols=['IN_IDOSO', 'Q006'])\n",
    "    part_idosos.append(df.query('(IN_IDOSO == 1)')['IN_IDOSO'].count())\n",
    "    total_inscritos.append(df.query('IN_IDOSO')['IN_IDOSO'].count())"
   ]
  },
  {
   "cell_type": "code",
   "execution_count": 4,
   "metadata": {},
   "outputs": [
    {
     "name": "stdout",
     "output_type": "stream",
     "text": [
      "[1306, 1492, 1455, 407, 254]\n",
      "[8722248, 7746427, 8627367, 6731341, 5513747]\n"
     ]
    }
   ],
   "source": [
    "print (part_idosos)\n",
    "print (total_inscritos)"
   ]
  },
  {
   "cell_type": "markdown",
   "metadata": {},
   "source": [
    "<b>Gráfico de Participantes Idosos no Enem x Ano</b>"
   ]
  },
  {
   "cell_type": "code",
   "execution_count": 45,
   "metadata": {},
   "outputs": [
    {
     "name": "stderr",
     "output_type": "stream",
     "text": [
      "No handles with labels found to put in legend.\n"
     ]
    },
    {
     "data": {
      "image/png": "[encoded data removed]",
      "text/plain": [
       "<Figure size 432x288 with 1 Axes>"
      ]
     },
     "metadata": {
      "needs_background": "light"
     },
     "output_type": "display_data"
    }
   ],
   "source": [
    "barWidth = 0.25\n",
    "r1 = np.arange(len(ed_ano))\n",
    "plt.bar(r1, part_idosos, color='red')\n",
    "plt.xlabel('Anos')\n",
    "plt.xticks([r + 0.125 for r in range(len(part_idosos))], ['2014', '2015', '2016', '2017', '2018'])\n",
    "plt.ylabel('Participantes Idosos')\n",
    "plt.title('Total de Participantes Idosos no Enem x Ano ')\n",
    "plt.legend(prop={'size':10})\n",
    "plt.show()"
   ]
  },
  {
   "cell_type": "markdown",
   "metadata": {},
   "source": [
    "<b>Gráfico do Nº Total de Inscritos no ENEM x Ano</b>"
   ]
  },
  {
   "cell_type": "code",
   "execution_count": 42,
   "metadata": {},
   "outputs": [
    {
     "data": {
      "image/png": "[encoded data removed]",
      "text/plain": [
       "<Figure size 432x288 with 1 Axes>"
      ]
     },
     "metadata": {
      "needs_background": "light"
     },
     "output_type": "display_data"
    }
   ],
   "source": [
    "barWidth = 0.25\n",
    "r1 = np.arange(len(ed_ano))\n",
    "plt.bar(r1, total_inscritos, color='blue',label ='Inscritos')\n",
    "plt.ylim(0, 9000000)\n",
    "plt.xlabel('Anos')\n",
    "plt.xticks([r + 0.125 for r in range(len(total_inscritos))], ['2014', '2015', '2016', '2017', '2018'])\n",
    "plt.ylabel('Total de participantes')\n",
    "plt.title('Total de Inscritos x Ano ')\n",
    "plt.legend(prop={'size':10})\n",
    "plt.show()"
   ]
  },
  {
   "cell_type": "markdown",
   "metadata": {},
   "source": [
    "<b>Tabela com o número de inscritos e quanto deles são idosos</b>"
   ]
  },
  {
   "cell_type": "code",
   "execution_count": 49,
   "metadata": {},
   "outputs": [
    {
     "data": {
      "text/html": [
       "<div>\n",
       "<style scoped>\n",
       "    .dataframe tbody tr th:only-of-type {\n",
       "        vertical-align: middle;\n",
       "    }\n",
       "\n",
       "    .dataframe tbody tr th {\n",
       "        vertical-align: top;\n",
       "    }\n",
       "\n",
       "    .dataframe thead th {\n",
       "        text-align: right;\n",
       "    }\n",
       "</style>\n",
       "<table border=\"1\" class=\"dataframe\">\n",
       "  <thead>\n",
       "    <tr style=\"text-align: right;\">\n",
       "      <th></th>\n",
       "      <th>2014</th>\n",
       "      <th>2015</th>\n",
       "      <th>2016</th>\n",
       "      <th>2017</th>\n",
       "      <th>2018</th>\n",
       "    </tr>\n",
       "  </thead>\n",
       "  <tbody>\n",
       "    <tr>\n",
       "      <th>Inscritos</th>\n",
       "      <td>8722248</td>\n",
       "      <td>7746427</td>\n",
       "      <td>8627367</td>\n",
       "      <td>6731341</td>\n",
       "      <td>5513747</td>\n",
       "    </tr>\n",
       "    <tr>\n",
       "      <th>Participantes Idosos</th>\n",
       "      <td>1306</td>\n",
       "      <td>1492</td>\n",
       "      <td>1455</td>\n",
       "      <td>407</td>\n",
       "      <td>254</td>\n",
       "    </tr>\n",
       "  </tbody>\n",
       "</table>\n",
       "</div>"
      ],
      "text/plain": [
       "                         2014     2015     2016     2017     2018\n",
       "Inscritos             8722248  7746427  8627367  6731341  5513747\n",
       "Participantes Idosos     1306     1492     1455      407      254"
      ]
     },
     "execution_count": 49,
     "metadata": {},
     "output_type": "execute_result"
    }
   ],
   "source": [
    "tabela = {}\n",
    "for i in range(len(ed_ano)):    \n",
    "    tabela.update({ed_ano[i]: [total_inscritos[i], part_idosos[i]]})\n",
    "df_tabela = pd.DataFrame(tabela, columns=ed_ano, index=['Inscritos','Participantes Idosos'])\n",
    "df_tabela"
   ]
  }
 ],
 "metadata": {
  "kernelspec": {
   "display_name": "Python 3",
   "language": "python",
   "name": "python3"
  },
  "language_info": {
   "codemirror_mode": {
    "name": "ipython",
    "version": 3
   },
   "file_extension": ".py",
   "mimetype": "text/x-python",
   "name": "python",
   "nbconvert_exporter": "python",
   "pygments_lexer": "ipython3",
   "version": "3.7.4"
  }
 },
 "nbformat": 4,
 "nbformat_minor": 2
}
